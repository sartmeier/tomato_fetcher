{
 "cells": [
  {
   "cell_type": "code",
   "execution_count": 1,
   "metadata": {},
   "outputs": [],
   "source": [
    "import sqlite3\n",
    "from sqlite3 import Error"
   ]
  },
  {
   "cell_type": "code",
   "execution_count": 2,
   "metadata": {},
   "outputs": [],
   "source": [
    "import requests\n",
    "from bs4 import BeautifulSoup\n",
    "from urllib.parse import urljoin\n",
    "import time\n",
    "import csv\n",
    "from string import ascii_lowercase"
   ]
  },
  {
   "cell_type": "code",
   "execution_count": 3,
   "metadata": {},
   "outputs": [],
   "source": [
    "import urllib.request"
   ]
  },
  {
   "cell_type": "code",
   "execution_count": 16,
   "metadata": {},
   "outputs": [],
   "source": [
    "import random"
   ]
  },
  {
   "cell_type": "markdown",
   "metadata": {},
   "source": [
    "## Tomato cultivar object that parses infos from html"
   ]
  },
  {
   "cell_type": "code",
   "execution_count": 4,
   "metadata": {},
   "outputs": [],
   "source": [
    "class CultivarFetcher():\n",
    "    \n",
    "    def __init__(self, cultivar, url):\n",
    "        #cultivar e.g. 'http://www.tomaten-atlas.de/sorten/a/2541-anderson-roman'\n",
    "        #url: \"http://www.tomaten-atlas.de\"\n",
    "        self.cultivar = self.get_url_content(cultivar)\n",
    "        self.cultivar_name = self.cultivar.find(\"h2\").text.strip().replace(\" \",\"_\").replace(\"/\",\"_\").replace(\",\",\"\")\n",
    "        self.url = url\n",
    "        \n",
    "    #def add(self, cultivar):\n",
    "    #    self.cultivar = get_url_content(cultivar)\n",
    "    \n",
    "    def get_url_content(self, url):\n",
    "        #general function to get the html page\n",
    "        r = requests.get(url)\n",
    "        doc = BeautifulSoup(r.text, \"html.parser\")\n",
    "        return doc\n",
    "    \n",
    "    def parse_table(self):\n",
    "        #function to get the characteristics for one cultivar including growth height, fruit size and color...\n",
    "        #cultivar is the BeautifulSoup object\n",
    "        characteristics = {}\n",
    "        table = self.cultivar.find(\"div\", {\"id\": \"content\"}).find(\"table\")\n",
    "        for i in table.find_all(\"tr\"):\n",
    "            c = i.find_all(\"td\")\n",
    "            characteristics[c[0].text.strip(\":\").replace(\" \",\"_\")] = c[1].text\n",
    "        return characteristics\n",
    "    \n",
    "    def download_images(self):\n",
    "        #cultivar is the BeautifulSoup object\n",
    "        image_list = self.cultivar.find(\"div\", {\"id\": \"content\"}).find(\"ul\", {\"class\": \"nogallery\"})\n",
    "        images = []\n",
    "        for i in image_list.find_all(\"a\"):\n",
    "            if \"id=0\" not in i[\"href\"]:\n",
    "                url = self.url  + i[\"href\"] #\"http://www.tomaten-atlas.de\"\n",
    "                img = urllib.request.urlretrieve(url, '{}_{}.jpg'.format(\n",
    "                            self.cultivar_name,\n",
    "                            (i['title']\n",
    "                                 # removing unwanted characters\n",
    "                                .lower()\n",
    "                                .replace(' ', '_')\n",
    "                                .replace('.', '')\n",
    "                                .replace(',', '')\n",
    "                                .replace(':', '')\n",
    "                                .replace('\\'', '')\n",
    "                                .replace('\\/', '')\n",
    "                                .replace('’', '')\n",
    "                                .replace('#', '')\n",
    "                                .replace('*', ''))\n",
    "                        ))\n",
    "                images.append(img[0]) #list images to store in db\n",
    "            else:\n",
    "                images.append(\"\")\n",
    "        return images\n",
    "    \n",
    "    def alt_names(self):\n",
    "        #cultivar is the BeautifulSoup object\n",
    "        alt = self.cultivar.find(\"div\", {\"id\": \"content\"}).find_all(\"p\")[0]\n",
    "        alt_name = alt.text.split(\":\")[1].strip().split(\"\\r\\n\")\n",
    "        if \"keine\" in alt_name[0]:\n",
    "            return None\n",
    "        return \", \".join(alt_name)\n",
    "    \n",
    "    def get_origin(self):\n",
    "        #cultivar is the BeautifulSoup object\n",
    "        orig = self.cultivar.find(\"div\", {\"id\": \"content\"}).find_all(\"p\")[1]\n",
    "        orig = orig.text.split(\":\")[1].strip().split(\"\\r\\n\")\n",
    "        return orig[0]\n",
    "    \n",
    "    def alt_img(self):\n",
    "        #cultivar is the BeautifulSoup object\n",
    "        #function to get additional images if available\n",
    "        cultivar_name = self.cultivar.find(\"h2\").text.strip()\n",
    "        cultivar_name = cultivar_name.replace(\" \",\"_\")\n",
    "        image_list = self.cultivar.find(\"div\", {\"id\": \"content\"}).find_all(\"ul\", {\"class\": \"nogallery\"})\n",
    "        images = []\n",
    "        if len(image_list) >1:\n",
    "            for i in image_list[1].find_all(\"a\"):\n",
    "                url = self.url + i[\"href\"]\n",
    "                img = urllib.request.urlretrieve(url, '{}_{}.jpg'.format(\n",
    "                            cultivar_name,\n",
    "                            (i['href'].split(\"=\")[1]\n",
    "                                 # removing unwanted characters\n",
    "                                .lower()\n",
    "                                .replace(' ', '_')\n",
    "                                .replace('.', '')\n",
    "                                .replace(',', '')\n",
    "                                .replace(':', '')\n",
    "                                .replace('\\'', '')\n",
    "                                .replace('\\/', '')\n",
    "                                .replace('’', '')\n",
    "                                .replace('#', '')\n",
    "                                .replace('*', ''))\n",
    "                        ))\n",
    "                images.append(img[0]) #list images to store in db\n",
    "            return images\n",
    "        else:\n",
    "            return None"
   ]
  },
  {
   "cell_type": "markdown",
   "metadata": {},
   "source": [
    "## Class to create a Sqlite Database and to take care of tables and inserts"
   ]
  },
  {
   "cell_type": "code",
   "execution_count": 5,
   "metadata": {},
   "outputs": [],
   "source": [
    "class SqliteDatabase():\n",
    "    \n",
    "    def __init__(self):\n",
    "        self.connection = None\n",
    "        self.tables = {}\n",
    "    \n",
    "    def create_connection(self, db):\n",
    "        connection = None\n",
    "        try:\n",
    "            connection = sqlite3.connect(db)\n",
    "        except Error as e:\n",
    "            print(e)\n",
    "        return connection\n",
    "    \n",
    "    def add_connection(self, db):\n",
    "        self.connection = self.create_connection(db)\n",
    "    \n",
    "    def create_table(self, table_name, columns, types, constraints, foreign_key = None):\n",
    "        #create_sql has to be a CREATE TABLE statement\n",
    "        #columns: column names\n",
    "        #types: data types same order as columns\n",
    "        #constraints: same order as columns, if a column has no contraints: empty string\n",
    "        #foreign_key: tuple with columnname and tablename and table_columnname\n",
    "        try:\n",
    "            cols = [col + \" \" + t + \" \" + con for col,t,con in list(zip(columns, types, constraints))]\n",
    "            column = \", \".join(cols)\n",
    "            if foreign_key == None:\n",
    "                create_sql = \"CREATE TABLE IF NOT EXISTS \" + table_name + \"(\"+ column + \");\"\n",
    "            else:\n",
    "                create_sql = \"CREATE TABLE IF NOT EXISTS \" + table_name + \"(\"+ column + \", \" \n",
    "                create_sql += \"FOREIGN KEY (\" + foreign_key[0] +\") REFERENCES \"+ foreign_key[1]\n",
    "                create_sql += \" (\" + foreign_key[2] + \"));\"\n",
    "                print(create_sql)\n",
    "            conn = self.connection.cursor()\n",
    "            conn.execute(create_sql)\n",
    "            self.tables[table_name] = columns\n",
    "        except Error as e:\n",
    "            print(e)\n",
    "\n",
    "            \n",
    "    def insert(self, table, values):\n",
    "        #table: which table to insert\n",
    "        #values: dict with columnname and value\n",
    "        columns = \",\".join(self.tables[table])\n",
    "        cols = \"\"\n",
    "        vals = []\n",
    "        #print(values)\n",
    "        for key, value in values.items():\n",
    "            if key not in columns:\n",
    "                print(\"There is no column \"+ key)\n",
    "                break\n",
    "            else:\n",
    "                cols += key + \",\"\n",
    "                vals.append(value)\n",
    "        cols = cols.rstrip(\",\")\n",
    "        ins = [\"?\"] * len(vals)\n",
    "        sql = \"INSERT INTO \" + table +\"(\" + cols + \") VALUES(\"+ \",\".join(ins) +\");\"\n",
    "        cur = self.connection.cursor()\n",
    "        cur.execute(sql, vals)\n",
    "        self.connection.commit()\n",
    "        return cur.lastrowid"
   ]
  },
  {
   "cell_type": "markdown",
   "metadata": {},
   "source": [
    "### create database instance and set up tables"
   ]
  },
  {
   "cell_type": "code",
   "execution_count": 6,
   "metadata": {},
   "outputs": [],
   "source": [
    "tomatoes = SqliteDatabase()\n",
    "tomatoes.add_connection(\"tomatoes.db\")"
   ]
  },
  {
   "cell_type": "code",
   "execution_count": 7,
   "metadata": {},
   "outputs": [],
   "source": [
    "\n",
    "cols = [\"id\", \"Name\", \"Alt_Name\", \"Herkunft\", \"Fruchtform\", \"Farbe\", \"Fruchtgroesse\", \"Fruchtreife\",\n",
    "        \"Fruchtkammern\", \"Schale\", \"Fleischigkeit\", \"Rippung\", \"Fruchtspitze\", \"gruene_Frucht\", \"Geschmack\",\n",
    "        \"Fruchtstaende\", \"Wuchshoehe\", \"Blattform\", \"Bluete\", \"img_gruene_Frucht\", \"img_Frucht\", \n",
    "        \"img_geschnittene_Frucht\"]\n",
    "types = [\"INTEGER\", \"text\", \"text\", \"text\", \"text\", \"text\", \"text\", \"text\", \"text\", \"text\", \"text\", \"text\", \"text\", \n",
    "         \"text\", \"text\", \"text\", \"text\", \"text\", \"text\", \"text\", \"text\", \"text\"]\n",
    "constr = [\"PRIMARY KEY AUTOINCREMENT\", \"NOT NULL\", \"\", \"\", \"\", \"\", \"\", \"\", \"\", \"\", \"\", \"\", \"\", \"\", \"\", \"\", \"\", \"\", \"\", \"\", \"\", \"\"]\n",
    "tomatoes.create_table(\"cultivars\", cols, types, constr)"
   ]
  },
  {
   "cell_type": "code",
   "execution_count": 8,
   "metadata": {},
   "outputs": [
    {
     "name": "stdout",
     "output_type": "stream",
     "text": [
      "CREATE TABLE IF NOT EXISTS additional_images(id INTEGER PRIMARY KEY AUTOINCREMENT, img text NOT NULL, cultivar_id INTEGER , FOREIGN KEY (cultivar_id) REFERENCES cultivars (id));\n"
     ]
    }
   ],
   "source": [
    "cols = [\"id\", \"img\", \"cultivar_id\"]\n",
    "types = [\"INTEGER\", \"text\", \"INTEGER\"]\n",
    "constr = [\"PRIMARY KEY AUTOINCREMENT\", \"NOT NULL\",\"\"]\n",
    "foreign = (\"cultivar_id\", \"cultivars\", \"id\")\n",
    "tomatoes.create_table(\"additional_images\", cols, types, constr, foreign)"
   ]
  },
  {
   "cell_type": "markdown",
   "metadata": {},
   "source": [
    "### here we get the list with the links to all cultivars"
   ]
  },
  {
   "cell_type": "code",
   "execution_count": 9,
   "metadata": {},
   "outputs": [],
   "source": [
    "def get_url_content(url):\n",
    "        #general function to get the html page\n",
    "        r = requests.get(url)\n",
    "        doc = BeautifulSoup(r.text, \"html.parser\")\n",
    "        return doc\n",
    "    \n",
    "def list_links(url):\n",
    "    #to get the links to the cultivars shown in the alphabetical list\n",
    "    cultivars = []\n",
    "    doc = get_url_content(url)\n",
    "    for i in doc.find(\"div\", {\"id\": \"content\"}).find_all(\"a\"):\n",
    "        cultivars.append(i[\"href\"])\n",
    "    return cultivars"
   ]
  },
  {
   "cell_type": "code",
   "execution_count": 38,
   "metadata": {},
   "outputs": [],
   "source": [
    "#here all the links to all cultivars are listed\n",
    "url = \"http://www.tomaten-atlas.de/sorten/\"\n",
    "alphabet = ascii_lowercase + \"0\"\n",
    "cultivars = []\n",
    "for c in alphabet:\n",
    "    time.sleep(2)\n",
    "    url_site = url + c\n",
    "    cultivars += list_links(url_site)\n",
    "#print(cultivars)"
   ]
  },
  {
   "cell_type": "markdown",
   "metadata": {},
   "source": [
    "### iterate over links, create cultivar object and store in database"
   ]
  },
  {
   "cell_type": "code",
   "execution_count": 40,
   "metadata": {},
   "outputs": [],
   "source": [
    "for c in range(7009,len(cultivars)):\n",
    "    time.sleep(random.randint(0,10))\n",
    "    cult = CultivarFetcher(cultivars[c], \"http://www.tomaten-atlas.de\")\n",
    "    characteristics = cult.parse_table()\n",
    "    images = cult.download_images()\n",
    "    name = cult.alt_names()\n",
    "    origin = cult.get_origin()\n",
    "    alt_img = cult.alt_img()\n",
    "    values = {\"Name\": cult.cultivar_name, \"Alt_Name\": name, \"Herkunft\": origin, \n",
    "              \"Fruchtform\":characteristics[\"Fruchtform\"], \"Farbe\": characteristics['Farbe'],\n",
    "              \"Fruchtgroesse\": characteristics['Fruchtgröße'],\n",
    "              \"Fruchtreife\": characteristics['Fruchtreife'],\n",
    "              \"Fruchtkammern\": characteristics['Fruchtkammern'],\n",
    "              \"Schale\": characteristics['Schale'],\n",
    "              \"Fleischigkeit\": characteristics['Fleischigkeit'], \n",
    "              \"Rippung\": characteristics['Rippung'],\n",
    "              \"Fruchtspitze\": characteristics['Fruchtspitze'],\n",
    "              \"gruene_Frucht\": characteristics['Grüne_Frucht'],\n",
    "              \"Geschmack\": characteristics['Geschmack'],\n",
    "              \"Fruchtstaende\": characteristics['Fruchtstände'],\n",
    "              \"Wuchshoehe\": characteristics['Wuchshöhe'],\n",
    "              \"Blattform\": characteristics['Blätterform'],\n",
    "              \"Bluete\": images[0],\n",
    "              \"img_gruene_Frucht\": images[1],\n",
    "              \"img_Frucht\":images[2],\n",
    "              \"img_geschnittene_Frucht\": images[3]}\n",
    "\n",
    "    cult_id = tomatoes.insert(\"cultivars\", values)\n",
    "    if alt_img:\n",
    "        for i in alt_img:\n",
    "            v = {\"img\": i, \"cultivar_id\": cult_id}\n",
    "            tomatoes.insert(\"additional_images\", v)"
   ]
  },
  {
   "cell_type": "code",
   "execution_count": 41,
   "metadata": {},
   "outputs": [
    {
     "data": {
      "text/plain": [
       "7028"
      ]
     },
     "execution_count": 41,
     "metadata": {},
     "output_type": "execute_result"
    }
   ],
   "source": [
    "cult_id"
   ]
  },
  {
   "cell_type": "code",
   "execution_count": 39,
   "metadata": {},
   "outputs": [
    {
     "data": {
      "text/plain": [
       "'http://www.tomaten-atlas.de/sorten/0/4826-0-33'"
      ]
     },
     "execution_count": 39,
     "metadata": {},
     "output_type": "execute_result"
    }
   ],
   "source": [
    "cultivars[7009]"
   ]
  },
  {
   "cell_type": "raw",
   "metadata": {},
   "source": [
    "https://stackoverflow.com/questions/51301395/how-to-store-a-jpg-in-an-sqlite-database-with-python\n",
    "def insert_picture(conn, picture_file):\n",
    "    with open(picture_file, 'rb') as input_file:\n",
    "        ablob = input_file.read()\n",
    "        base=os.path.basename(picture_file)\n",
    "        afile, ext = os.path.splitext(base)\n",
    "        sql = '''INSERT INTO PICTURES\n",
    "        (PICTURE, TYPE, FILE_NAME)\n",
    "        VALUES(?, ?, ?);'''\n",
    "        conn.execute(sql,[sqlite3.Binary(ablob), ext, afile]) \n",
    "        conn.commit()\n",
    "        \n",
    " def extract_picture(cursor, picture_id):\n",
    "    sql = \"SELECT PICTURE, TYPE, FILE_NAME FROM PICTURES WHERE id = :id\"\n",
    "    param = {'id': picture_id}\n",
    "    cursor.execute(sql, param)\n",
    "    ablob, ext, afile = cursor.fetchone()\n",
    "    filename = afile + ext\n",
    "    with open(filename, 'wb') as output_file:\n",
    "        output_file.write(ablob)\n",
    "    return filename\n"
   ]
  },
  {
   "cell_type": "raw",
   "metadata": {},
   "source": [
    "def main():\n",
    "    database = \"pythonsqlite.db\"\n",
    "\n",
    "    sql_create_projects_table = \"\"\" CREATE TABLE IF NOT EXISTS projects (\n",
    "                                        id integer PRIMARY KEY,\n",
    "                                        name text NOT NULL,\n",
    "                                        begin_date text,\n",
    "                                        end_date text\n",
    "                                    ); \"\"\"\n",
    "\n",
    "    sql_create_tasks_table = \"\"\"CREATE TABLE IF NOT EXISTS tasks (\n",
    "                                    id integer PRIMARY KEY,\n",
    "                                    name text NOT NULL,\n",
    "                                    priority integer,\n",
    "                                    status_id integer NOT NULL,\n",
    "                                    project_id integer NOT NULL,\n",
    "                                    begin_date text NOT NULL,\n",
    "                                    end_date text NOT NULL,\n",
    "                                    FOREIGN KEY (project_id) REFERENCES projects (id)\n",
    "                                );\"\"\"\n",
    "\n",
    "    # create a database connection\n",
    "    conn = create_connection(database)\n",
    "\n",
    "    # create tables\n",
    "    if conn is not None:\n",
    "        # create projects table\n",
    "        create_table(conn, sql_create_projects_table)\n",
    "\n",
    "        # create tasks table\n",
    "        create_table(conn, sql_create_tasks_table)\n",
    "    else:\n",
    "        print(\"Error! cannot create the database connection.\")\n",
    "\n",
    "\n",
    "if __name__ == '__main__':\n",
    "    main()"
   ]
  },
  {
   "cell_type": "raw",
   "metadata": {},
   "source": [
    "conn = create_connection(\"pythonsqlite.db\")\n",
    "with conn:\n",
    "    # create a new project\n",
    "    project = ('Cool App with SQLite & Python', '2015-01-01', '2015-01-30');\n",
    "    project_id = create_project(conn, project)\n",
    "\n",
    "    # tasks\n",
    "    task_1 = ('Analyze the requirements of the app', 1, 1, project_id, '2015-01-01', '2015-01-02')\n",
    "    task_2 = ('Confirm with user about the top requirements', 1, 1, project_id, '2015-01-03', '2015-01-05')\n",
    "\n",
    "        # create tasks\n",
    "    create_task(conn, task_1)\n",
    "    create_task(conn, task_2)\n"
   ]
  },
  {
   "cell_type": "code",
   "execution_count": null,
   "metadata": {},
   "outputs": [],
   "source": []
  }
 ],
 "metadata": {
  "kernelspec": {
   "display_name": "Python 3",
   "language": "python",
   "name": "python3"
  },
  "language_info": {
   "codemirror_mode": {
    "name": "ipython",
    "version": 3
   },
   "file_extension": ".py",
   "mimetype": "text/x-python",
   "name": "python",
   "nbconvert_exporter": "python",
   "pygments_lexer": "ipython3",
   "version": "3.8.3"
  }
 },
 "nbformat": 4,
 "nbformat_minor": 4
}
